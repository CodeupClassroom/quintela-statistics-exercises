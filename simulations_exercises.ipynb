{
 "cells": [
  {
   "cell_type": "markdown",
   "metadata": {},
   "source": [
    "# Statistics Exercises"
   ]
  },
  {
   "cell_type": "markdown",
   "metadata": {},
   "source": [
    "<hr style=\"border:2px solid gray\">"
   ]
  },
  {
   "cell_type": "markdown",
   "metadata": {},
   "source": [
    "1. How likely is it that you roll doubles when rolling two dice?\n",
    "\n",
    "1. If you flip 8 coins, what is the probability of getting exactly 3 heads? What is the probability of getting more than 3 heads?\n",
    "\n",
    "1. There are approximitely 3 web development cohorts for every 1 data science cohort at Codeup. Assuming that Codeup randomly selects an alumni to put on a billboard, what are the odds that the two billboards I drive past both have data science students on them?\n",
    "\n",
    "1. Codeup students buy, on average, 3 poptart packages (+- 1.5) a day from the snack vending machine. If on monday the machine is restocked with 17 poptart packages, how likely is it that I will be able to buy some poptarts on Friday afternoon?\n",
    "\n",
    "1. Compare Heights\n",
    "\n",
    "    - Men have an average height of 178 cm and standard deviation of 8cm.\n",
    "    - Women have a mean of 170, sd = 6cm.\n",
    "    - If a man and woman are chosen at random, P(woman taller than man)?\n",
    "\n",
    "1. When installing anaconda on a student's computer, there's a 1 in 250 chance\n",
    "   that the download is corrupted and the installation fails. What are the odds\n",
    "   that after having 50 students download anaconda, no one has an installation\n",
    "   issue?  100 students?\n",
    "\n",
    "    What is the probability that we observe an installation issue within the first\n",
    "    150 students that download anaconda?\n",
    "\n",
    "    How likely is it that 450 students all download anaconda without an issue?\n",
    "\n",
    "1. There's a 70% chance on any given day that there will be at least one food\n",
    "   truck at Travis Park. However, you haven't seen a food truck there in 3 days.\n",
    "   How unlikely is this?\n",
    "\n",
    "    How likely is it that a food truck will show up sometime this week?\n",
    "\n",
    "1. If 23 people are in the same room, what are the odds that two of them share a birthday? What if it's 20 people? 40?"
   ]
  },
  {
   "cell_type": "markdown",
   "metadata": {},
   "source": [
    "<hr style=\"border:0.5px solid black\">\n",
    "<hr style=\"border:0.5px solid black\">"
   ]
  },
  {
   "cell_type": "code",
   "execution_count": 1,
   "metadata": {},
   "outputs": [],
   "source": [
    "%matplotlib inline\n",
    "import numpy as np\n",
    "import pandas as pd\n",
    "import matplotlib.pyplot as plt\n",
    "\n",
    "#be able to reproduce our results\n",
    "np.random.seed(333)"
   ]
  },
  {
   "cell_type": "markdown",
   "metadata": {},
   "source": [
    "<b>1. How likely is it that you roll doubles when rolling two dice?</b>\n",
    "- <b>Answer</b>: 16.6%"
   ]
  },
  {
   "cell_type": "markdown",
   "metadata": {},
   "source": [
    "Our options for rolling doubles are:\n",
    "- <b>(1,1)</b> - <b>(X,X)</b>- (1,2)- (1,3)- (1,4)- (1,5)- (1,6)\n",
    "- <b>(2,2)</b> - (2,1)- <b>(X,X)</b>- (2,3)- (2,4)- (2,5)- (2,6) \n",
    "- <b>(3,3)</b> - (3,1)- (3,2)- <b>(X,X)</b>- (3,4)- (3,5)- (3,6) \n",
    "- <b>(4,4)</b> - (4,1)- (4,2)- (4,3)- <b>(X,X)</b>- (4,5)- (4,6) \n",
    "- <b>(5,5)</b> - (5,1)- (5,2)- (5,3)- (5,4)- <b>(X,X)</b>- (5,6) \n",
    "- <b>(6,6)</b> - (6,1)- (6,2)- (6,3)- (6,4)- (6,5)- <b>(X,X)</b> "
   ]
  },
  {
   "cell_type": "code",
   "execution_count": 2,
   "metadata": {},
   "outputs": [
    {
     "data": {
      "text/plain": [
       "0.16666666666666666"
      ]
     },
     "execution_count": 2,
     "metadata": {},
     "output_type": "execute_result"
    }
   ],
   "source": [
    "#answer by hand (six sides to a dice)\n",
    "6/36"
   ]
  },
  {
   "cell_type": "code",
   "execution_count": 3,
   "metadata": {},
   "outputs": [],
   "source": [
    "#number of times we're going to roll\n",
    "n_trials = 10_000 \n",
    "\n",
    "#number of dice\n",
    "n_dice = 2\n",
    "\n",
    "#assign the outcomes\n",
    "outcome = [1,2,3,4,5,6]"
   ]
  },
  {
   "cell_type": "markdown",
   "metadata": {},
   "source": [
    "<b>Remember</b>:\n",
    "    \n",
    "The correct syntax for this is:\n",
    "    \n",
    "```np.random.choice(a, size=None)```\n",
    "\n",
    "- a = 1-D array-like or int\n",
    "- size = number of trials & number of items\n"
   ]
  },
  {
   "cell_type": "code",
   "execution_count": 4,
   "metadata": {},
   "outputs": [
    {
     "data": {
      "text/plain": [
       "array([[5, 5],\n",
       "       [6, 4],\n",
       "       [4, 5],\n",
       "       ...,\n",
       "       [1, 4],\n",
       "       [4, 4],\n",
       "       [1, 4]])"
      ]
     },
     "execution_count": 4,
     "metadata": {},
     "output_type": "execute_result"
    }
   ],
   "source": [
    "#assign variable using numpy\n",
    "rolls = np.random.choice(outcome, size = (n_trials, n_dice))\n",
    "\n",
    "#call the variable\n",
    "rolls"
   ]
  },
  {
   "cell_type": "code",
   "execution_count": 5,
   "metadata": {},
   "outputs": [
    {
     "data": {
      "text/plain": [
       "array([ True, False, False, ..., False,  True, False])"
      ]
     },
     "execution_count": 5,
     "metadata": {},
     "output_type": "execute_result"
    }
   ],
   "source": [
    "#does roll of 1st dice equal roll of 2nd dice?\n",
    "rolls[:,0] == rolls[:,1]"
   ]
  },
  {
   "cell_type": "code",
   "execution_count": 6,
   "metadata": {},
   "outputs": [
    {
     "data": {
      "text/plain": [
       "0.1659"
      ]
     },
     "execution_count": 6,
     "metadata": {},
     "output_type": "execute_result"
    }
   ],
   "source": [
    "#give me the average number of times that dice 1 roll equals dice 2 roll\n",
    "(rolls[:,0] == rolls[:,1]).mean()"
   ]
  },
  {
   "cell_type": "markdown",
   "metadata": {},
   "source": [
    "<hr style=\"border:0.5px solid grey\">"
   ]
  },
  {
   "cell_type": "markdown",
   "metadata": {},
   "source": [
    "Another way to answer this:"
   ]
  },
  {
   "cell_type": "code",
   "execution_count": 7,
   "metadata": {},
   "outputs": [],
   "source": [
    "#assign outcomes for first dice\n",
    "roll1 = np.random.choice(outcome, size = (100000, 1))\n",
    "\n",
    "#assign outcomes for second dice\n",
    "roll2 = np.random.choice(outcome, size = (100000, 1))"
   ]
  },
  {
   "cell_type": "code",
   "execution_count": 8,
   "metadata": {},
   "outputs": [
    {
     "data": {
      "text/plain": [
       "0.16537"
      ]
     },
     "execution_count": 8,
     "metadata": {},
     "output_type": "execute_result"
    }
   ],
   "source": [
    "#does dice1 roll equal dice2 roll\n",
    "(roll1 == roll2).mean()"
   ]
  },
  {
   "cell_type": "markdown",
   "metadata": {},
   "source": [
    "<hr style=\"border:1px solid black\">"
   ]
  },
  {
   "cell_type": "markdown",
   "metadata": {},
   "source": [
    "<b> #2. If you flip 8 coins, what is the probability of getting exactly 3 heads? What is the probability of getting more than 3 heads?"
   ]
  },
  {
   "cell_type": "markdown",
   "metadata": {},
   "source": [
    "- <b>Answer</b>: \n",
    "    - exactly 3 heads = 22.42%\n",
    "    - more than 3 heads = 63%"
   ]
  },
  {
   "cell_type": "code",
   "execution_count": 9,
   "metadata": {},
   "outputs": [],
   "source": [
    "#number of trials\n",
    "n_trials= 10000\n",
    "\n",
    "#number of coins\n",
    "n_coins = 8\n",
    "\n",
    "#assign heads\n",
    "heads =1\n",
    "#assign tails\n",
    "tails =0\n",
    "\n",
    "#assign the possible outcomes\n",
    "outcomes=[heads, tails]"
   ]
  },
  {
   "cell_type": "code",
   "execution_count": 10,
   "metadata": {},
   "outputs": [
    {
     "data": {
      "text/plain": [
       "array([[1, 0, 0, ..., 0, 1, 1],\n",
       "       [1, 1, 0, ..., 1, 1, 1],\n",
       "       [1, 0, 1, ..., 0, 1, 1],\n",
       "       ...,\n",
       "       [0, 1, 0, ..., 0, 0, 1],\n",
       "       [1, 1, 1, ..., 1, 0, 0],\n",
       "       [1, 0, 0, ..., 0, 1, 1]])"
      ]
     },
     "execution_count": 10,
     "metadata": {},
     "output_type": "execute_result"
    }
   ],
   "source": [
    "flips= np.random.choice(outcomes, size =(n_trials, n_coins))\n",
    "\n",
    "flips"
   ]
  },
  {
   "cell_type": "code",
   "execution_count": 11,
   "metadata": {},
   "outputs": [
    {
     "data": {
      "text/plain": [
       "array([3, 6, 5, ..., 3, 4, 4])"
      ]
     },
     "execution_count": 11,
     "metadata": {},
     "output_type": "execute_result"
    }
   ],
   "source": [
    "#add up how many times we get head '1'\n",
    "num_heads = flips.sum(axis=1)\n",
    "\n",
    "#take a look\n",
    "num_heads"
   ]
  },
  {
   "cell_type": "code",
   "execution_count": 12,
   "metadata": {},
   "outputs": [
    {
     "data": {
      "text/plain": [
       "0.2242"
      ]
     },
     "execution_count": 12,
     "metadata": {},
     "output_type": "execute_result"
    }
   ],
   "source": [
    "#average that we get at least 3 heads \n",
    "calculated_prob=(num_heads == 3).mean()\n",
    "\n",
    "#take a look\n",
    "calculated_prob"
   ]
  },
  {
   "cell_type": "markdown",
   "metadata": {},
   "source": [
    "<hr style=\"border:0.5px solid grey\">"
   ]
  },
  {
   "cell_type": "markdown",
   "metadata": {},
   "source": [
    "If we wanted <b>more</b> than 3"
   ]
  },
  {
   "cell_type": "code",
   "execution_count": 13,
   "metadata": {},
   "outputs": [],
   "source": [
    "calculated_prob=(num_heads > 3).mean()"
   ]
  },
  {
   "cell_type": "code",
   "execution_count": 14,
   "metadata": {},
   "outputs": [
    {
     "data": {
      "text/plain": [
       "0.6343"
      ]
     },
     "execution_count": 14,
     "metadata": {},
     "output_type": "execute_result"
    }
   ],
   "source": [
    "calculated_prob"
   ]
  },
  {
   "cell_type": "markdown",
   "metadata": {},
   "source": [
    "<hr style=\"border:1px solid black\">"
   ]
  },
  {
   "cell_type": "markdown",
   "metadata": {},
   "source": [
    "<b> #3. There are approximitely 3 web development cohorts for every 1 data science cohort at Codeup. Assuming that Codeup randomly selects an alumni to put on a billboard, what are the odds that the two billboards I drive past both have data science students on them?"
   ]
  },
  {
   "cell_type": "markdown",
   "metadata": {},
   "source": [
    "<b>Answer</b>: 5.68%"
   ]
  },
  {
   "cell_type": "markdown",
   "metadata": {},
   "source": [
    "<b>Break it down</b>:\n",
    "- 3 webdev per 1 dS == 1/4 classes is DS == 25% of classes are DS\n",
    "- 2 billboards\n",
    "- odds of both having a data science student on it\n",
    "- 25% chance per billboard * 2 billboards = 1/8"
   ]
  },
  {
   "cell_type": "code",
   "execution_count": 15,
   "metadata": {},
   "outputs": [
    {
     "data": {
      "text/plain": [
       "0.0625"
      ]
     },
     "execution_count": 15,
     "metadata": {},
     "output_type": "execute_result"
    }
   ],
   "source": [
    "# ANSWER with probability\n",
    "(1/4) * (1/4)"
   ]
  },
  {
   "cell_type": "code",
   "execution_count": 16,
   "metadata": {},
   "outputs": [],
   "source": [
    "#ANSWER with simulation\n",
    "\n",
    "#3/4 are WDev classes\n",
    "p_WDev = 0.75 \n",
    "#1/4 are DS classes\n",
    "p_DS = 0.25 \n",
    "\n",
    "#number of attempts\n",
    "n_trials = 10_000 \n",
    "#number of billboards\n",
    "n_billboards = 2 "
   ]
  },
  {
   "cell_type": "code",
   "execution_count": 17,
   "metadata": {},
   "outputs": [
    {
     "data": {
      "text/plain": [
       "array([[0.97003048, 0.36319237],\n",
       "       [0.9685952 , 0.80109649],\n",
       "       [0.14707623, 0.83083886],\n",
       "       ...,\n",
       "       [0.6387485 , 0.78625448],\n",
       "       [0.22474727, 0.6820847 ],\n",
       "       [0.23090251, 0.18509385]])"
      ]
     },
     "execution_count": 17,
     "metadata": {},
     "output_type": "execute_result"
    }
   ],
   "source": [
    "#np.random.random does not require outcomes\n",
    "boards = np.random.random((n_trials, n_billboards))\n",
    "boards"
   ]
  },
  {
   "cell_type": "code",
   "execution_count": 18,
   "metadata": {},
   "outputs": [
    {
     "data": {
      "text/plain": [
       "array([[False, False],\n",
       "       [False, False],\n",
       "       [ True, False],\n",
       "       ...,\n",
       "       [False, False],\n",
       "       [ True, False],\n",
       "       [ True,  True]])"
      ]
     },
     "execution_count": 18,
     "metadata": {},
     "output_type": "execute_result"
    }
   ],
   "source": [
    "#chances of DS on billboard = random being less than 0.25\n",
    "DS_billboard = boards < p_DS \n",
    "DS_billboard"
   ]
  },
  {
   "cell_type": "code",
   "execution_count": 19,
   "metadata": {},
   "outputs": [
    {
     "data": {
      "text/plain": [
       "0.0568"
      ]
     },
     "execution_count": 19,
     "metadata": {},
     "output_type": "execute_result"
    }
   ],
   "source": [
    "#this gives the average of how many times DS student being on billboard is equal to 2\n",
    "(DS_billboard.sum(axis=1)==2).mean() "
   ]
  },
  {
   "cell_type": "markdown",
   "metadata": {},
   "source": [
    "Another way to answer this:"
   ]
  },
  {
   "cell_type": "code",
   "execution_count": 20,
   "metadata": {},
   "outputs": [],
   "source": [
    "#using random.choice instead\n",
    "DS = 1/4\n",
    "WD = 3/4\n",
    "outcomes = [DS, WD]"
   ]
  },
  {
   "cell_type": "code",
   "execution_count": 21,
   "metadata": {},
   "outputs": [
    {
     "data": {
      "text/html": [
       "<div>\n",
       "<style scoped>\n",
       "    .dataframe tbody tr th:only-of-type {\n",
       "        vertical-align: middle;\n",
       "    }\n",
       "\n",
       "    .dataframe tbody tr th {\n",
       "        vertical-align: top;\n",
       "    }\n",
       "\n",
       "    .dataframe thead th {\n",
       "        text-align: right;\n",
       "    }\n",
       "</style>\n",
       "<table border=\"1\" class=\"dataframe\">\n",
       "  <thead>\n",
       "    <tr style=\"text-align: right;\">\n",
       "      <th></th>\n",
       "      <th>0</th>\n",
       "      <th>1</th>\n",
       "    </tr>\n",
       "  </thead>\n",
       "  <tbody>\n",
       "    <tr>\n",
       "      <th>0</th>\n",
       "      <td>0.75</td>\n",
       "      <td>0.25</td>\n",
       "    </tr>\n",
       "    <tr>\n",
       "      <th>1</th>\n",
       "      <td>0.75</td>\n",
       "      <td>0.75</td>\n",
       "    </tr>\n",
       "    <tr>\n",
       "      <th>2</th>\n",
       "      <td>0.75</td>\n",
       "      <td>0.25</td>\n",
       "    </tr>\n",
       "    <tr>\n",
       "      <th>3</th>\n",
       "      <td>0.75</td>\n",
       "      <td>0.75</td>\n",
       "    </tr>\n",
       "    <tr>\n",
       "      <th>4</th>\n",
       "      <td>0.75</td>\n",
       "      <td>0.25</td>\n",
       "    </tr>\n",
       "  </tbody>\n",
       "</table>\n",
       "</div>"
      ],
      "text/plain": [
       "      0     1\n",
       "0  0.75  0.25\n",
       "1  0.75  0.75\n",
       "2  0.75  0.25\n",
       "3  0.75  0.75\n",
       "4  0.75  0.25"
      ]
     },
     "execution_count": 21,
     "metadata": {},
     "output_type": "execute_result"
    }
   ],
   "source": [
    "billboard2 = np.random.choice(outcomes, size = (n_trials, n_billboards), p = [1/4, 3/4])\n",
    "\n",
    "#turn it into a dataframe\n",
    "billboard2 = pd.DataFrame(billboard2)\n",
    "billboard2.head()"
   ]
  },
  {
   "cell_type": "code",
   "execution_count": 22,
   "metadata": {},
   "outputs": [
    {
     "data": {
      "text/plain": [
       "0.0639"
      ]
     },
     "execution_count": 22,
     "metadata": {},
     "output_type": "execute_result"
    }
   ],
   "source": [
    "billboard2[\"number_of_data_science\"] = (billboard2 == 0.25).sum(axis=1)\n",
    "(billboard2.number_of_data_science == 2).mean()"
   ]
  },
  {
   "cell_type": "markdown",
   "metadata": {},
   "source": [
    "<hr style=\"border:1px solid black\">"
   ]
  },
  {
   "cell_type": "markdown",
   "metadata": {},
   "source": [
    "<b> #4. Codeup students buy, on average, 3 poptart packages (+- 1.5) a day from the snack vending machine. If on monday the machine is restocked with 17 poptart packages, how likely is it that I will be able to buy some poptarts on Friday afternoon?"
   ]
  },
  {
   "cell_type": "markdown",
   "metadata": {},
   "source": [
    "<b>Answer</b>: 72.4%"
   ]
  },
  {
   "cell_type": "markdown",
   "metadata": {},
   "source": [
    "<b>Break it down</b>:\n",
    "    \n",
    "- 1.5-4.5 puchases a day (average 3)\n",
    "- 17 packages every monday\n",
    "- probability to buy one on Friday\n",
    "- <u>Mon</u>: 17 - (1.5-4.5) = 15.5-12.5 =day 1 prob = 100%\n",
    "- <u>Tues</u>: 15-12.5 - (1.5-4.5)= 13.5-8 = day 2 prob 100% \n",
    "- <u>Wed</u>: 13.5-8 - (1.5-4.5)= 12-3.5 = day 3 prob 100%\n",
    "- <u>Thurs</u>: 12-3.5 - (1.5-4.5)= 10.5-(-1) = day 4, could have 10.5 or -1 left / 50% chance\n",
    "- <u>Friday</u>: 10.5 -(-1) - (1.5-4.5) = 9-(-5.5)= day 4, could have 9 or -5.5/ 50% chance"
   ]
  },
  {
   "cell_type": "code",
   "execution_count": 23,
   "metadata": {},
   "outputs": [],
   "source": [
    "#average number of poptarts daily\n",
    "pop_avg = 3\n",
    "\n",
    "#give or take (std)\n",
    "pop_std = 1.5\n",
    "\n",
    "#how many schools days\n",
    "n_days= 5\n",
    "\n",
    "#how many events\n",
    "n_trials = 1_000_000"
   ]
  },
  {
   "cell_type": "code",
   "execution_count": 24,
   "metadata": {},
   "outputs": [
    {
     "data": {
      "text/plain": [
       "array([[6.60817428, 0.74996385, 3.18005397, 1.28679525, 3.19141272],\n",
       "       [1.70504093, 3.53701166, 4.51506533, 5.00928193, 5.80705042],\n",
       "       [1.12479726, 2.77803892, 2.6516598 , 4.23173484, 3.40220035],\n",
       "       ...,\n",
       "       [2.83859598, 2.92372201, 5.16776322, 1.7207749 , 1.27378768],\n",
       "       [1.81210175, 3.76201278, 4.02602468, 2.65864037, 5.55555663],\n",
       "       [1.49870835, 4.13031604, 4.79086371, 2.1744058 , 2.88843077]])"
      ]
     },
     "execution_count": 24,
     "metadata": {},
     "output_type": "execute_result"
    }
   ],
   "source": [
    "simulated_consumed_poptarts= np.random.normal(pop_avg, pop_std,(n_trials, n_days))\n",
    "simulated_consumed_poptarts"
   ]
  },
  {
   "cell_type": "code",
   "execution_count": 25,
   "metadata": {},
   "outputs": [
    {
     "data": {
      "text/plain": [
       "0.617346"
      ]
     },
     "execution_count": 25,
     "metadata": {},
     "output_type": "execute_result"
    }
   ],
   "source": [
    "calculated_prob = (simulated_consumed_poptarts.sum(axis=1) <16).mean()\n",
    "calculated_prob"
   ]
  },
  {
   "cell_type": "code",
   "execution_count": 26,
   "metadata": {},
   "outputs": [
    {
     "data": {
      "image/png": "[encoded data removed]",
      "text/plain": [
       "<Figure size 640x480 with 1 Axes>"
      ]
     },
     "metadata": {},
     "output_type": "display_data"
    }
   ],
   "source": [
    "#let's visualize this distribution\n",
    "plt.hist(np.random.normal(3, 1.5, size = (10000)))\n",
    "plt.title('Distribution of Poptart Packages Purchased Each Day')\n",
    "plt.vlines(3, 0, 3000, color='black')\n",
    "plt.text(3.1, 3000, 'Mean')\n",
    "plt.vlines(4.5, 0, 3000, color='black', ls='--', alpha=0.5)\n",
    "plt.text(4.6, 3000, '1σ')\n",
    "plt.vlines(6.0, 0, 3000, color='black', ls='--', alpha=0.5)\n",
    "plt.text(6.1, 3000, '2σ')\n",
    "plt.vlines(1.5, 0, 3000, color='black', ls='--', alpha=0.5)\n",
    "plt.text(1.6, 3000, '-1σ')\n",
    "plt.vlines(0, 0, 3000, color='black', ls='--', alpha=0.5)\n",
    "plt.text(0.1, 3000, '-2σ')\n",
    "plt.ylabel('Count')\n",
    "plt.xlabel('Number of Packages Purchased')\n",
    "plt.show()"
   ]
  },
  {
   "cell_type": "markdown",
   "metadata": {},
   "source": [
    "<hr style=\"border:0.5px solid grey\">"
   ]
  },
  {
   "cell_type": "markdown",
   "metadata": {},
   "source": [
    "Another way to answer this:"
   ]
  },
  {
   "cell_type": "code",
   "execution_count": 27,
   "metadata": {},
   "outputs": [],
   "source": [
    "#number of poptarts\n",
    "n_packages = 17 \n",
    "\n",
    "#number of days (M-F days of class)\n",
    "n_days = 5 \n",
    "\n",
    "#number of attempts\n",
    "n_trials = 10_000 "
   ]
  },
  {
   "cell_type": "code",
   "execution_count": 28,
   "metadata": {},
   "outputs": [
    {
     "data": {
      "text/plain": [
       "array([[ 5.,  5.,  2.,  4.,  2.],\n",
       "       [ 2.,  2.,  3.,  2.,  1.],\n",
       "       [ 0.,  2.,  4.,  5.,  6.],\n",
       "       ...,\n",
       "       [ 2.,  1.,  6., -0.,  2.],\n",
       "       [ 3.,  2.,  3.,  2.,  4.],\n",
       "       [ 2.,  2.,  3.,  1.,  4.]])"
      ]
     },
     "execution_count": 28,
     "metadata": {},
     "output_type": "execute_result"
    }
   ],
   "source": [
    "#this is acknowledging that 3 is the average but the range is +-1.5\n",
    "packages = np.round(np.random.normal(3,1.5, (n_trials, n_days)))\n",
    "packages"
   ]
  },
  {
   "cell_type": "code",
   "execution_count": 29,
   "metadata": {},
   "outputs": [
    {
     "data": {
      "text/plain": [
       "array([[ 5.,  5.,  2.,  4.,  2.],\n",
       "       [ 2.,  2.,  3.,  2.,  1.],\n",
       "       [ 0.,  2.,  4.,  5.,  6.],\n",
       "       ...,\n",
       "       [ 2.,  1.,  6., -0.,  2.],\n",
       "       [ 3.,  2.,  3.,  2.,  4.],\n",
       "       [ 2.,  2.,  3.,  1.,  4.]])"
      ]
     },
     "execution_count": 29,
     "metadata": {},
     "output_type": "execute_result"
    }
   ],
   "source": [
    "package_purchased = np.where(packages < 0,0,packages)\n",
    "package_purchased"
   ]
  },
  {
   "cell_type": "code",
   "execution_count": 30,
   "metadata": {},
   "outputs": [
    {
     "data": {
      "text/plain": [
       "array([18., 10., 17., ..., 11., 14., 12.])"
      ]
     },
     "execution_count": 30,
     "metadata": {},
     "output_type": "execute_result"
    }
   ],
   "source": [
    "all_packages = package_purchased.sum(axis=1)\n",
    "all_packages"
   ]
  },
  {
   "cell_type": "code",
   "execution_count": 31,
   "metadata": {},
   "outputs": [
    {
     "data": {
      "text/plain": [
       "array([False,  True, False, ...,  True,  True,  True])"
      ]
     },
     "execution_count": 31,
     "metadata": {},
     "output_type": "execute_result"
    }
   ],
   "source": [
    "package_left_friday = all_packages < 17\n",
    "package_left_friday"
   ]
  },
  {
   "cell_type": "code",
   "execution_count": 32,
   "metadata": {},
   "outputs": [
    {
     "data": {
      "text/plain": [
       "0.6653"
      ]
     },
     "execution_count": 32,
     "metadata": {},
     "output_type": "execute_result"
    }
   ],
   "source": [
    "prob_left_friday = package_left_friday.mean()\n",
    "prob_left_friday"
   ]
  },
  {
   "cell_type": "markdown",
   "metadata": {},
   "source": [
    "<hr style=\"border:1px solid black\">"
   ]
  },
  {
   "cell_type": "markdown",
   "metadata": {},
   "source": [
    "<b>#5. Compare Heights</b>\n",
    "- Men have an average height of 178 cm and standard deviation of 8cm.\n",
    "- Women have a mean of 170, sd = 6cm.\n",
    "- If a man and woman are chosen at random, P(woman taller than man)?"
   ]
  },
  {
   "cell_type": "markdown",
   "metadata": {},
   "source": [
    "<b>Answer</b>: 21.09%"
   ]
  },
  {
   "cell_type": "markdown",
   "metadata": {},
   "source": [
    "<b>Break it down</b>:\n",
    "- men = 178cm/sd:8cm\n",
    "- women = 170cm/sd: 6cm"
   ]
  },
  {
   "cell_type": "code",
   "execution_count": 33,
   "metadata": {},
   "outputs": [],
   "source": [
    "#determine average mens height\n",
    "men_avg= 178\n",
    "#determine mens height std\n",
    "men_std=8\n",
    "\n",
    "#determine average womens height\n",
    "women_avg=170\n",
    "#determine womens height std\n",
    "women_std=6\n",
    "\n",
    "#number of trials\n",
    "n_trials = 1_000_000"
   ]
  },
  {
   "cell_type": "code",
   "execution_count": 34,
   "metadata": {},
   "outputs": [],
   "source": [
    "#simulation for 1M men\n",
    "s_men = np.random.normal(men_avg, men_std, n_trials)"
   ]
  },
  {
   "cell_type": "code",
   "execution_count": 35,
   "metadata": {},
   "outputs": [],
   "source": [
    "#simulation for 1M women\n",
    "s_women = np.random.normal(women_avg, women_std, n_trials)"
   ]
  },
  {
   "cell_type": "code",
   "execution_count": 36,
   "metadata": {},
   "outputs": [
    {
     "data": {
      "text/plain": [
       "0.210868"
      ]
     },
     "execution_count": 36,
     "metadata": {},
     "output_type": "execute_result"
    }
   ],
   "source": [
    "#probability that women are taller then men -on average\n",
    "calculated_prob = (s_women > s_men).mean()\n",
    "\n",
    "#take a look\n",
    "calculated_prob"
   ]
  },
  {
   "cell_type": "markdown",
   "metadata": {},
   "source": [
    "<hr style=\"border:0.5px solid grey\">"
   ]
  },
  {
   "cell_type": "markdown",
   "metadata": {},
   "source": [
    "Another way to answer this:"
   ]
  },
  {
   "cell_type": "code",
   "execution_count": 37,
   "metadata": {},
   "outputs": [],
   "source": [
    "#height = random(height given, std, number of attempts)\n",
    "M_height = np.random.normal(178,8,10000)\n",
    "W_height = np.random.normal(170,6,10000)"
   ]
  },
  {
   "cell_type": "code",
   "execution_count": 38,
   "metadata": {},
   "outputs": [
    {
     "data": {
      "text/html": [
       "<div>\n",
       "<style scoped>\n",
       "    .dataframe tbody tr th:only-of-type {\n",
       "        vertical-align: middle;\n",
       "    }\n",
       "\n",
       "    .dataframe tbody tr th {\n",
       "        vertical-align: top;\n",
       "    }\n",
       "\n",
       "    .dataframe thead th {\n",
       "        text-align: right;\n",
       "    }\n",
       "</style>\n",
       "<table border=\"1\" class=\"dataframe\">\n",
       "  <thead>\n",
       "    <tr style=\"text-align: right;\">\n",
       "      <th></th>\n",
       "      <th>Men</th>\n",
       "      <th>Women</th>\n",
       "    </tr>\n",
       "  </thead>\n",
       "  <tbody>\n",
       "    <tr>\n",
       "      <th>0</th>\n",
       "      <td>187.628866</td>\n",
       "      <td>176.313505</td>\n",
       "    </tr>\n",
       "    <tr>\n",
       "      <th>1</th>\n",
       "      <td>171.071523</td>\n",
       "      <td>167.206310</td>\n",
       "    </tr>\n",
       "    <tr>\n",
       "      <th>2</th>\n",
       "      <td>179.971505</td>\n",
       "      <td>160.570195</td>\n",
       "    </tr>\n",
       "    <tr>\n",
       "      <th>3</th>\n",
       "      <td>185.780155</td>\n",
       "      <td>173.528840</td>\n",
       "    </tr>\n",
       "    <tr>\n",
       "      <th>4</th>\n",
       "      <td>161.722842</td>\n",
       "      <td>166.289543</td>\n",
       "    </tr>\n",
       "  </tbody>\n",
       "</table>\n",
       "</div>"
      ],
      "text/plain": [
       "          Men       Women\n",
       "0  187.628866  176.313505\n",
       "1  171.071523  167.206310\n",
       "2  179.971505  160.570195\n",
       "3  185.780155  173.528840\n",
       "4  161.722842  166.289543"
      ]
     },
     "execution_count": 38,
     "metadata": {},
     "output_type": "execute_result"
    }
   ],
   "source": [
    "#turn height simulations into a dataframe\n",
    "heights = pd.DataFrame({'Men': M_height, 'Women': W_height})\n",
    "\n",
    "#take a look\n",
    "heights.head()"
   ]
  },
  {
   "cell_type": "code",
   "execution_count": 39,
   "metadata": {},
   "outputs": [
    {
     "data": {
      "text/plain": [
       "0      -11.315361\n",
       "1       -3.865213\n",
       "2      -19.401310\n",
       "3      -12.251316\n",
       "4        4.566701\n",
       "          ...    \n",
       "9995     8.740219\n",
       "9996    -8.019797\n",
       "9997   -12.642776\n",
       "9998   -19.470720\n",
       "9999    -6.935910\n",
       "Length: 10000, dtype: float64"
      ]
     },
     "execution_count": 39,
     "metadata": {},
     "output_type": "execute_result"
    }
   ],
   "source": [
    "#male height - female height\n",
    "difference = heights['Women'] - heights ['Men'] \n",
    "\n",
    "#take a look\n",
    "difference"
   ]
  },
  {
   "cell_type": "code",
   "execution_count": 40,
   "metadata": {},
   "outputs": [
    {
     "data": {
      "text/plain": [
       "0       False\n",
       "1       False\n",
       "2       False\n",
       "3       False\n",
       "4        True\n",
       "        ...  \n",
       "9995     True\n",
       "9996    False\n",
       "9997    False\n",
       "9998    False\n",
       "9999    False\n",
       "Length: 10000, dtype: bool"
      ]
     },
     "execution_count": 40,
     "metadata": {},
     "output_type": "execute_result"
    }
   ],
   "source": [
    "#if women are taller the difference is greater than 0\n",
    "women_taller = difference >0 \n",
    "\n",
    "#take a look- True meaning women is taller\n",
    "women_taller"
   ]
  },
  {
   "cell_type": "code",
   "execution_count": 41,
   "metadata": {},
   "outputs": [
    {
     "data": {
      "text/plain": [
       "0.2081"
      ]
     },
     "execution_count": 41,
     "metadata": {},
     "output_type": "execute_result"
    }
   ],
   "source": [
    "#gives the rate of women being taller\n",
    "rate_women_taller = women_taller.mean() \n",
    "\n",
    "#answer\n",
    "rate_women_taller"
   ]
  },
  {
   "cell_type": "markdown",
   "metadata": {},
   "source": [
    "<hr style=\"border:1px solid black\">"
   ]
  },
  {
   "cell_type": "markdown",
   "metadata": {},
   "source": [
    "<b> #6. When installing anaconda on a student's computer, there's a 1 in 250 chance that the download is corrupted and the installation fails. \n",
    "- What are the odds that after having 50 students download anaconda, no one has an installation issue? 100 students?\n",
    "- What is the probability that we observe an installation issue within the first 150 students that download anaconda?\n",
    "- How likely is it that 450 students all download anaconda without an issue?"
   ]
  },
  {
   "cell_type": "markdown",
   "metadata": {},
   "source": [
    "<b>Break it down</b>:\n",
    "- prob_fail = 1/250\n",
    "- 50 students == 0 fails\n",
    "- 100 students == 0 fails\n",
    "- 150 students >= 1 fail\n",
    "- 450 students == 0 fails"
   ]
  },
  {
   "cell_type": "markdown",
   "metadata": {},
   "source": [
    "<b>50 installs"
   ]
  },
  {
   "cell_type": "markdown",
   "metadata": {},
   "source": [
    "<b>Answer</b>: 81.87%"
   ]
  },
  {
   "cell_type": "code",
   "execution_count": 42,
   "metadata": {},
   "outputs": [],
   "source": [
    "#number of simulations\n",
    "n_sims= 1_000_000\n",
    "\n",
    "#number of installations\n",
    "n_installs= 50\n",
    "\n",
    "#outcomes\n",
    "conda_fails= 1\n",
    "success = 0\n",
    "outcomes= [conda_fails, success]\n",
    "\n",
    "#probability\n",
    "prob_fail= 1/250"
   ]
  },
  {
   "cell_type": "code",
   "execution_count": 43,
   "metadata": {},
   "outputs": [
    {
     "data": {
      "text/plain": [
       "array([[1, 1, 1, ..., 1, 1, 1],\n",
       "       [1, 1, 1, ..., 1, 1, 1],\n",
       "       [1, 1, 1, ..., 1, 1, 1],\n",
       "       ...,\n",
       "       [1, 1, 1, ..., 1, 1, 1],\n",
       "       [1, 1, 1, ..., 1, 1, 1],\n",
       "       [1, 1, 1, ..., 1, 1, 1]])"
      ]
     },
     "execution_count": 43,
     "metadata": {},
     "output_type": "execute_result"
    }
   ],
   "source": [
    "#simulate for 50 installations \n",
    "installs = np.random.choice(outcomes, size = (n_sims, n_installs), p = [249/250, 1/250])\n",
    "installs"
   ]
  },
  {
   "cell_type": "code",
   "execution_count": 44,
   "metadata": {},
   "outputs": [
    {
     "data": {
      "text/plain": [
       "0.818724"
      ]
     },
     "execution_count": 44,
     "metadata": {},
     "output_type": "execute_result"
    }
   ],
   "source": [
    "((installs < prob_fail).sum(axis=1)== 0).mean()"
   ]
  },
  {
   "cell_type": "markdown",
   "metadata": {},
   "source": [
    "<b>100 installs"
   ]
  },
  {
   "cell_type": "markdown",
   "metadata": {},
   "source": [
    "<b>Answer</b>: 66.92%"
   ]
  },
  {
   "cell_type": "code",
   "execution_count": 45,
   "metadata": {},
   "outputs": [],
   "source": [
    "#number of simulations\n",
    "n_trials= 1_000_000\n",
    "\n",
    "#number of installations\n",
    "n_installs= 100\n",
    "\n",
    "#possible outcomes\n",
    "conda_fails= 1\n",
    "success = 0\n",
    "\n",
    "#probability\n",
    "prob_fail= 1/250"
   ]
  },
  {
   "cell_type": "code",
   "execution_count": 46,
   "metadata": {},
   "outputs": [
    {
     "data": {
      "text/plain": [
       "0.669211"
      ]
     },
     "execution_count": 46,
     "metadata": {},
     "output_type": "execute_result"
    }
   ],
   "source": [
    "installs_100 = np.random.choice(outcomes, size = (n_sims, n_installs), p = [249/250, 1/250])\n",
    "((installs_100 < prob_fail).sum(axis=1)== 0).mean()"
   ]
  },
  {
   "cell_type": "markdown",
   "metadata": {},
   "source": [
    "<b>Another way to accomplish this</b>"
   ]
  },
  {
   "cell_type": "code",
   "execution_count": 47,
   "metadata": {},
   "outputs": [
    {
     "data": {
      "text/plain": [
       "array([[0.77711666, 0.90207196, 0.74571202, ..., 0.74609498, 0.40039421,\n",
       "        0.39141898],\n",
       "       [0.52246929, 0.74703353, 0.74656873, ..., 0.05513215, 0.73765863,\n",
       "        0.11009018],\n",
       "       [0.96676741, 0.2201189 , 0.08134508, ..., 0.01836746, 0.67849788,\n",
       "        0.65651935],\n",
       "       ...,\n",
       "       [0.92799322, 0.35757065, 0.06214544, ..., 0.25472237, 0.52511225,\n",
       "        0.30596644],\n",
       "       [0.3889177 , 0.76906259, 0.49403499, ..., 0.75360897, 0.77324306,\n",
       "        0.11078469],\n",
       "       [0.37592768, 0.72545266, 0.94456819, ..., 0.60725083, 0.85905367,\n",
       "        0.03546811]])"
      ]
     },
     "execution_count": 47,
     "metadata": {},
     "output_type": "execute_result"
    }
   ],
   "source": [
    "installs = np.random.random((n_trials,n_installs))\n",
    "installs"
   ]
  },
  {
   "cell_type": "code",
   "execution_count": 48,
   "metadata": {},
   "outputs": [
    {
     "data": {
      "text/plain": [
       "array([[False, False, False, ..., False, False, False],\n",
       "       [False, False, False, ..., False, False, False],\n",
       "       [False, False, False, ..., False, False, False],\n",
       "       ...,\n",
       "       [False, False, False, ..., False, False, False],\n",
       "       [False, False, False, ..., False, False, False],\n",
       "       [False, False, False, ..., False, False, False]])"
      ]
     },
     "execution_count": 48,
     "metadata": {},
     "output_type": "execute_result"
    }
   ],
   "source": [
    "installs < prob_fail"
   ]
  },
  {
   "cell_type": "code",
   "execution_count": 49,
   "metadata": {},
   "outputs": [
    {
     "data": {
      "text/plain": [
       "0.669292"
      ]
     },
     "execution_count": 49,
     "metadata": {},
     "output_type": "execute_result"
    }
   ],
   "source": [
    "((installs < prob_fail).sum(axis=1)== 0).mean()"
   ]
  },
  {
   "cell_type": "markdown",
   "metadata": {},
   "source": [
    "<b>150 installs at least 1 fail"
   ]
  },
  {
   "cell_type": "markdown",
   "metadata": {},
   "source": [
    "<b>Answer</b>: 45.20%"
   ]
  },
  {
   "cell_type": "code",
   "execution_count": 50,
   "metadata": {},
   "outputs": [],
   "source": [
    "n_trials= 1_000_000\n",
    "outcomes = ['S', 'F']\n",
    "n_students = 150"
   ]
  },
  {
   "cell_type": "code",
   "execution_count": 51,
   "metadata": {},
   "outputs": [],
   "source": [
    "downloads = np.random.choice(outcomes, size=(n_trials, n_students), \n",
    "                p = [249/250, 1/250])"
   ]
  },
  {
   "cell_type": "code",
   "execution_count": 52,
   "metadata": {},
   "outputs": [
    {
     "data": {
      "text/plain": [
       "0.452054"
      ]
     },
     "execution_count": 52,
     "metadata": {},
     "output_type": "execute_result"
    }
   ],
   "source": [
    "((downloads == 'S').sum(axis=1) < n_students).mean()"
   ]
  },
  {
   "cell_type": "markdown",
   "metadata": {},
   "source": [
    "<b>450 installs"
   ]
  },
  {
   "cell_type": "markdown",
   "metadata": {},
   "source": [
    "<b>Answer</b>: 16.48%"
   ]
  },
  {
   "cell_type": "code",
   "execution_count": 53,
   "metadata": {},
   "outputs": [],
   "source": [
    "#number of simulations\n",
    "n_simulations= 1_000_000\n",
    "outcomes = ['S', 'F']\n",
    "n_students = 450"
   ]
  },
  {
   "cell_type": "code",
   "execution_count": 54,
   "metadata": {},
   "outputs": [],
   "source": [
    "downloads = np.random.choice(outcomes, size=(n_simulations, n_students), \n",
    "                p = [249/250, 1/250])\n"
   ]
  },
  {
   "cell_type": "code",
   "execution_count": 55,
   "metadata": {},
   "outputs": [
    {
     "data": {
      "text/plain": [
       "0.164751"
      ]
     },
     "execution_count": 55,
     "metadata": {},
     "output_type": "execute_result"
    }
   ],
   "source": [
    "((downloads == 'S').sum(axis=1) == n_students).mean()"
   ]
  },
  {
   "cell_type": "markdown",
   "metadata": {},
   "source": [
    "<hr style=\"border:1px solid black\">"
   ]
  },
  {
   "cell_type": "markdown",
   "metadata": {},
   "source": [
    "<b> #7. There's a 70% chance on any given day that there will be at least one food truck at Travis Park. However, you haven't seen a food truck there in 3 days. How unlikely is this?</b>"
   ]
  },
  {
   "cell_type": "markdown",
   "metadata": {},
   "source": [
    "<b>Answer</b>: 2.73%"
   ]
  },
  {
   "cell_type": "code",
   "execution_count": 61,
   "metadata": {},
   "outputs": [],
   "source": [
    "n_trials= 1_000_000\n",
    "n_trucks= 3\n",
    "food_truck=1\n",
    "no_truck=0\n",
    "\n",
    "truck_prob = 0.7"
   ]
  },
  {
   "cell_type": "code",
   "execution_count": 62,
   "metadata": {},
   "outputs": [],
   "source": [
    "data= np.random.random((n_trials,n_trucks))"
   ]
  },
  {
   "cell_type": "code",
   "execution_count": 63,
   "metadata": {},
   "outputs": [
    {
     "data": {
      "text/plain": [
       "0.027302"
      ]
     },
     "execution_count": 63,
     "metadata": {},
     "output_type": "execute_result"
    }
   ],
   "source": [
    "((data < truck_prob).sum(axis=1)==0).mean()"
   ]
  },
  {
   "cell_type": "markdown",
   "metadata": {},
   "source": [
    "<b>On last 2 days of week:"
   ]
  },
  {
   "cell_type": "markdown",
   "metadata": {},
   "source": [
    "<b>Answer</b>: 90.99%"
   ]
  },
  {
   "cell_type": "code",
   "execution_count": 65,
   "metadata": {},
   "outputs": [],
   "source": [
    "n_trials= 1_000_000\n",
    "#2 days left in week\n",
    "n_days= 2 \n",
    "food_truck=1\n",
    "no_truck=0\n",
    "truck_prob = 0.7"
   ]
  },
  {
   "cell_type": "code",
   "execution_count": 66,
   "metadata": {},
   "outputs": [],
   "source": [
    "lunch_days = np.random.random((n_trials,n_days))"
   ]
  },
  {
   "cell_type": "code",
   "execution_count": 67,
   "metadata": {},
   "outputs": [
    {
     "data": {
      "text/plain": [
       "0.909926"
      ]
     },
     "execution_count": 67,
     "metadata": {},
     "output_type": "execute_result"
    }
   ],
   "source": [
    "calculated_prob= ((lunch_days < truck_prob).sum(axis=1) >0).mean()\n",
    "calculated_prob"
   ]
  },
  {
   "cell_type": "markdown",
   "metadata": {},
   "source": [
    "<hr style=\"border:1px solid black\">"
   ]
  },
  {
   "cell_type": "markdown",
   "metadata": {},
   "source": [
    "<b> #8. If 23 people are in the same room, what are the odds that two of them share a birthday? What if it's 20 people? 40?</b>"
   ]
  },
  {
   "cell_type": "markdown",
   "metadata": {},
   "source": [
    "<b>Break it down</b>:\n",
    "- 365 days in a year\n",
    "- 23 people in class\n",
    "- prob of same birthday"
   ]
  },
  {
   "cell_type": "markdown",
   "metadata": {},
   "source": [
    "<b>23 students in the class"
   ]
  },
  {
   "cell_type": "markdown",
   "metadata": {},
   "source": [
    "<b>Answer</b>: 50.59%"
   ]
  },
  {
   "cell_type": "code",
   "execution_count": 68,
   "metadata": {},
   "outputs": [],
   "source": [
    "#number of days in a year\n",
    "outcomes = range(0, 365) \n",
    "\n",
    "#number of students\n",
    "n_trials= 23 \n",
    "n_simulated= 1_000_000 "
   ]
  },
  {
   "cell_type": "markdown",
   "metadata": {},
   "source": [
    "Anytime there is less than 23 unique numbers, we know that there must be a shared birthday"
   ]
  },
  {
   "cell_type": "code",
   "execution_count": 69,
   "metadata": {},
   "outputs": [
    {
     "data": {
      "text/plain": [
       "array([[ 92,  19,  79, ..., 135, 119, 292],\n",
       "       [348, 189,   4, ..., 178, 157, 206],\n",
       "       [ 69, 191, 129, ..., 142, 304, 118],\n",
       "       ...,\n",
       "       [144, 280, 335, ..., 320, 221, 139],\n",
       "       [332, 251, 151, ...,  99,  22,  83],\n",
       "       [ 11, 135,  52, ...,   5,  51, 303]])"
      ]
     },
     "execution_count": 69,
     "metadata": {},
     "output_type": "execute_result"
    }
   ],
   "source": [
    "bd = np.random.choice(outcomes, size=(n_simulated, n_trials))\n",
    "bd"
   ]
  },
  {
   "cell_type": "code",
   "execution_count": 70,
   "metadata": {},
   "outputs": [
    {
     "data": {
      "text/plain": [
       "0         22\n",
       "1         22\n",
       "2         22\n",
       "3         23\n",
       "4         22\n",
       "          ..\n",
       "999995    21\n",
       "999996    23\n",
       "999997    22\n",
       "999998    22\n",
       "999999    23\n",
       "Length: 1000000, dtype: int64"
      ]
     },
     "execution_count": 70,
     "metadata": {},
     "output_type": "execute_result"
    }
   ],
   "source": [
    "pd.DataFrame(bd).nunique(axis = 1)"
   ]
  },
  {
   "cell_type": "code",
   "execution_count": 71,
   "metadata": {},
   "outputs": [
    {
     "data": {
      "text/plain": [
       "0.507979"
      ]
     },
     "execution_count": 71,
     "metadata": {},
     "output_type": "execute_result"
    }
   ],
   "source": [
    "#percentage of room with a shared birthday\n",
    "(pd.DataFrame(bd).nunique(axis = 1) < 23).mean()"
   ]
  },
  {
   "cell_type": "markdown",
   "metadata": {},
   "source": [
    "<b>20 students per class"
   ]
  },
  {
   "cell_type": "markdown",
   "metadata": {},
   "source": [
    "<b>Answer</b>: 41.06%"
   ]
  },
  {
   "cell_type": "code",
   "execution_count": 72,
   "metadata": {},
   "outputs": [],
   "source": [
    "n_simulations = 100_000\n",
    "n_people = 20\n",
    "\n",
    "#number of days in a year\n",
    "outcomes = range(0, 365) "
   ]
  },
  {
   "cell_type": "code",
   "execution_count": 73,
   "metadata": {},
   "outputs": [
    {
     "data": {
      "text/plain": [
       "array([[353, 251, 231, ..., 229,  17, 226],\n",
       "       [158, 274, 292, ..., 104,  59, 113],\n",
       "       [207, 237,  13, ..., 307,  16,  80],\n",
       "       ...,\n",
       "       [315, 314, 169, ..., 150, 232, 359],\n",
       "       [ 65, 333, 189, ...,  42, 156, 235],\n",
       "       [331, 158,  27, ..., 218, 159, 319]])"
      ]
     },
     "execution_count": 73,
     "metadata": {},
     "output_type": "execute_result"
    }
   ],
   "source": [
    "# Produce some random birthdays\n",
    "birthdays = np.random.choice(outcomes, size=(n_simulations, n_people))\n",
    "birthdays"
   ]
  },
  {
   "cell_type": "code",
   "execution_count": 74,
   "metadata": {},
   "outputs": [
    {
     "data": {
      "text/html": [
       "<div>\n",
       "<style scoped>\n",
       "    .dataframe tbody tr th:only-of-type {\n",
       "        vertical-align: middle;\n",
       "    }\n",
       "\n",
       "    .dataframe tbody tr th {\n",
       "        vertical-align: top;\n",
       "    }\n",
       "\n",
       "    .dataframe thead th {\n",
       "        text-align: right;\n",
       "    }\n",
       "</style>\n",
       "<table border=\"1\" class=\"dataframe\">\n",
       "  <thead>\n",
       "    <tr style=\"text-align: right;\">\n",
       "      <th></th>\n",
       "      <th>0</th>\n",
       "      <th>1</th>\n",
       "      <th>2</th>\n",
       "      <th>3</th>\n",
       "      <th>4</th>\n",
       "      <th>5</th>\n",
       "      <th>6</th>\n",
       "      <th>7</th>\n",
       "      <th>8</th>\n",
       "      <th>9</th>\n",
       "      <th>10</th>\n",
       "      <th>11</th>\n",
       "      <th>12</th>\n",
       "      <th>13</th>\n",
       "      <th>14</th>\n",
       "      <th>15</th>\n",
       "      <th>16</th>\n",
       "      <th>17</th>\n",
       "      <th>18</th>\n",
       "      <th>19</th>\n",
       "    </tr>\n",
       "  </thead>\n",
       "  <tbody>\n",
       "    <tr>\n",
       "      <th>0</th>\n",
       "      <td>353</td>\n",
       "      <td>251</td>\n",
       "      <td>231</td>\n",
       "      <td>194</td>\n",
       "      <td>24</td>\n",
       "      <td>320</td>\n",
       "      <td>36</td>\n",
       "      <td>319</td>\n",
       "      <td>299</td>\n",
       "      <td>111</td>\n",
       "      <td>66</td>\n",
       "      <td>153</td>\n",
       "      <td>148</td>\n",
       "      <td>228</td>\n",
       "      <td>3</td>\n",
       "      <td>268</td>\n",
       "      <td>212</td>\n",
       "      <td>229</td>\n",
       "      <td>17</td>\n",
       "      <td>226</td>\n",
       "    </tr>\n",
       "    <tr>\n",
       "      <th>1</th>\n",
       "      <td>158</td>\n",
       "      <td>274</td>\n",
       "      <td>292</td>\n",
       "      <td>333</td>\n",
       "      <td>121</td>\n",
       "      <td>271</td>\n",
       "      <td>330</td>\n",
       "      <td>239</td>\n",
       "      <td>156</td>\n",
       "      <td>101</td>\n",
       "      <td>221</td>\n",
       "      <td>161</td>\n",
       "      <td>255</td>\n",
       "      <td>185</td>\n",
       "      <td>316</td>\n",
       "      <td>319</td>\n",
       "      <td>71</td>\n",
       "      <td>104</td>\n",
       "      <td>59</td>\n",
       "      <td>113</td>\n",
       "    </tr>\n",
       "    <tr>\n",
       "      <th>2</th>\n",
       "      <td>207</td>\n",
       "      <td>237</td>\n",
       "      <td>13</td>\n",
       "      <td>91</td>\n",
       "      <td>328</td>\n",
       "      <td>191</td>\n",
       "      <td>89</td>\n",
       "      <td>265</td>\n",
       "      <td>161</td>\n",
       "      <td>213</td>\n",
       "      <td>26</td>\n",
       "      <td>334</td>\n",
       "      <td>38</td>\n",
       "      <td>89</td>\n",
       "      <td>295</td>\n",
       "      <td>30</td>\n",
       "      <td>251</td>\n",
       "      <td>307</td>\n",
       "      <td>16</td>\n",
       "      <td>80</td>\n",
       "    </tr>\n",
       "    <tr>\n",
       "      <th>3</th>\n",
       "      <td>96</td>\n",
       "      <td>242</td>\n",
       "      <td>47</td>\n",
       "      <td>34</td>\n",
       "      <td>111</td>\n",
       "      <td>139</td>\n",
       "      <td>147</td>\n",
       "      <td>307</td>\n",
       "      <td>176</td>\n",
       "      <td>81</td>\n",
       "      <td>338</td>\n",
       "      <td>347</td>\n",
       "      <td>191</td>\n",
       "      <td>273</td>\n",
       "      <td>117</td>\n",
       "      <td>22</td>\n",
       "      <td>277</td>\n",
       "      <td>52</td>\n",
       "      <td>191</td>\n",
       "      <td>183</td>\n",
       "    </tr>\n",
       "    <tr>\n",
       "      <th>4</th>\n",
       "      <td>155</td>\n",
       "      <td>15</td>\n",
       "      <td>240</td>\n",
       "      <td>97</td>\n",
       "      <td>199</td>\n",
       "      <td>218</td>\n",
       "      <td>233</td>\n",
       "      <td>290</td>\n",
       "      <td>278</td>\n",
       "      <td>72</td>\n",
       "      <td>279</td>\n",
       "      <td>123</td>\n",
       "      <td>125</td>\n",
       "      <td>277</td>\n",
       "      <td>252</td>\n",
       "      <td>143</td>\n",
       "      <td>177</td>\n",
       "      <td>242</td>\n",
       "      <td>34</td>\n",
       "      <td>314</td>\n",
       "    </tr>\n",
       "  </tbody>\n",
       "</table>\n",
       "</div>"
      ],
      "text/plain": [
       "    0    1    2    3    4    5    6    7    8    9    10   11   12   13   14  \\\n",
       "0  353  251  231  194   24  320   36  319  299  111   66  153  148  228    3   \n",
       "1  158  274  292  333  121  271  330  239  156  101  221  161  255  185  316   \n",
       "2  207  237   13   91  328  191   89  265  161  213   26  334   38   89  295   \n",
       "3   96  242   47   34  111  139  147  307  176   81  338  347  191  273  117   \n",
       "4  155   15  240   97  199  218  233  290  278   72  279  123  125  277  252   \n",
       "\n",
       "    15   16   17   18   19  \n",
       "0  268  212  229   17  226  \n",
       "1  319   71  104   59  113  \n",
       "2   30  251  307   16   80  \n",
       "3   22  277   52  191  183  \n",
       "4  143  177  242   34  314  "
      ]
     },
     "execution_count": 74,
     "metadata": {},
     "output_type": "execute_result"
    }
   ],
   "source": [
    "#create the dataframe of birthdays\n",
    "df = pd.DataFrame(birthdays)\n",
    "df.head()"
   ]
  },
  {
   "cell_type": "code",
   "execution_count": 75,
   "metadata": {},
   "outputs": [
    {
     "data": {
      "text/html": [
       "<div>\n",
       "<style scoped>\n",
       "    .dataframe tbody tr th:only-of-type {\n",
       "        vertical-align: middle;\n",
       "    }\n",
       "\n",
       "    .dataframe tbody tr th {\n",
       "        vertical-align: top;\n",
       "    }\n",
       "\n",
       "    .dataframe thead th {\n",
       "        text-align: right;\n",
       "    }\n",
       "</style>\n",
       "<table border=\"1\" class=\"dataframe\">\n",
       "  <thead>\n",
       "    <tr style=\"text-align: right;\">\n",
       "      <th></th>\n",
       "      <th>0</th>\n",
       "      <th>1</th>\n",
       "      <th>2</th>\n",
       "      <th>3</th>\n",
       "      <th>4</th>\n",
       "      <th>5</th>\n",
       "      <th>6</th>\n",
       "      <th>7</th>\n",
       "      <th>8</th>\n",
       "      <th>9</th>\n",
       "      <th>...</th>\n",
       "      <th>11</th>\n",
       "      <th>12</th>\n",
       "      <th>13</th>\n",
       "      <th>14</th>\n",
       "      <th>15</th>\n",
       "      <th>16</th>\n",
       "      <th>17</th>\n",
       "      <th>18</th>\n",
       "      <th>19</th>\n",
       "      <th>n_unique</th>\n",
       "    </tr>\n",
       "  </thead>\n",
       "  <tbody>\n",
       "    <tr>\n",
       "      <th>0</th>\n",
       "      <td>353</td>\n",
       "      <td>251</td>\n",
       "      <td>231</td>\n",
       "      <td>194</td>\n",
       "      <td>24</td>\n",
       "      <td>320</td>\n",
       "      <td>36</td>\n",
       "      <td>319</td>\n",
       "      <td>299</td>\n",
       "      <td>111</td>\n",
       "      <td>...</td>\n",
       "      <td>153</td>\n",
       "      <td>148</td>\n",
       "      <td>228</td>\n",
       "      <td>3</td>\n",
       "      <td>268</td>\n",
       "      <td>212</td>\n",
       "      <td>229</td>\n",
       "      <td>17</td>\n",
       "      <td>226</td>\n",
       "      <td>20</td>\n",
       "    </tr>\n",
       "    <tr>\n",
       "      <th>1</th>\n",
       "      <td>158</td>\n",
       "      <td>274</td>\n",
       "      <td>292</td>\n",
       "      <td>333</td>\n",
       "      <td>121</td>\n",
       "      <td>271</td>\n",
       "      <td>330</td>\n",
       "      <td>239</td>\n",
       "      <td>156</td>\n",
       "      <td>101</td>\n",
       "      <td>...</td>\n",
       "      <td>161</td>\n",
       "      <td>255</td>\n",
       "      <td>185</td>\n",
       "      <td>316</td>\n",
       "      <td>319</td>\n",
       "      <td>71</td>\n",
       "      <td>104</td>\n",
       "      <td>59</td>\n",
       "      <td>113</td>\n",
       "      <td>20</td>\n",
       "    </tr>\n",
       "    <tr>\n",
       "      <th>2</th>\n",
       "      <td>207</td>\n",
       "      <td>237</td>\n",
       "      <td>13</td>\n",
       "      <td>91</td>\n",
       "      <td>328</td>\n",
       "      <td>191</td>\n",
       "      <td>89</td>\n",
       "      <td>265</td>\n",
       "      <td>161</td>\n",
       "      <td>213</td>\n",
       "      <td>...</td>\n",
       "      <td>334</td>\n",
       "      <td>38</td>\n",
       "      <td>89</td>\n",
       "      <td>295</td>\n",
       "      <td>30</td>\n",
       "      <td>251</td>\n",
       "      <td>307</td>\n",
       "      <td>16</td>\n",
       "      <td>80</td>\n",
       "      <td>19</td>\n",
       "    </tr>\n",
       "    <tr>\n",
       "      <th>3</th>\n",
       "      <td>96</td>\n",
       "      <td>242</td>\n",
       "      <td>47</td>\n",
       "      <td>34</td>\n",
       "      <td>111</td>\n",
       "      <td>139</td>\n",
       "      <td>147</td>\n",
       "      <td>307</td>\n",
       "      <td>176</td>\n",
       "      <td>81</td>\n",
       "      <td>...</td>\n",
       "      <td>347</td>\n",
       "      <td>191</td>\n",
       "      <td>273</td>\n",
       "      <td>117</td>\n",
       "      <td>22</td>\n",
       "      <td>277</td>\n",
       "      <td>52</td>\n",
       "      <td>191</td>\n",
       "      <td>183</td>\n",
       "      <td>19</td>\n",
       "    </tr>\n",
       "    <tr>\n",
       "      <th>4</th>\n",
       "      <td>155</td>\n",
       "      <td>15</td>\n",
       "      <td>240</td>\n",
       "      <td>97</td>\n",
       "      <td>199</td>\n",
       "      <td>218</td>\n",
       "      <td>233</td>\n",
       "      <td>290</td>\n",
       "      <td>278</td>\n",
       "      <td>72</td>\n",
       "      <td>...</td>\n",
       "      <td>123</td>\n",
       "      <td>125</td>\n",
       "      <td>277</td>\n",
       "      <td>252</td>\n",
       "      <td>143</td>\n",
       "      <td>177</td>\n",
       "      <td>242</td>\n",
       "      <td>34</td>\n",
       "      <td>314</td>\n",
       "      <td>20</td>\n",
       "    </tr>\n",
       "  </tbody>\n",
       "</table>\n",
       "<p>5 rows × 21 columns</p>\n",
       "</div>"
      ],
      "text/plain": [
       "     0    1    2    3    4    5    6    7    8    9  ...   11   12   13   14  \\\n",
       "0  353  251  231  194   24  320   36  319  299  111  ...  153  148  228    3   \n",
       "1  158  274  292  333  121  271  330  239  156  101  ...  161  255  185  316   \n",
       "2  207  237   13   91  328  191   89  265  161  213  ...  334   38   89  295   \n",
       "3   96  242   47   34  111  139  147  307  176   81  ...  347  191  273  117   \n",
       "4  155   15  240   97  199  218  233  290  278   72  ...  123  125  277  252   \n",
       "\n",
       "    15   16   17   18   19  n_unique  \n",
       "0  268  212  229   17  226        20  \n",
       "1  319   71  104   59  113        20  \n",
       "2   30  251  307   16   80        19  \n",
       "3   22  277   52  191  183        19  \n",
       "4  143  177  242   34  314        20  \n",
       "\n",
       "[5 rows x 21 columns]"
      ]
     },
     "execution_count": 75,
     "metadata": {},
     "output_type": "execute_result"
    }
   ],
   "source": [
    "#create columns of unique values\n",
    "df[\"n_unique\"] = df.nunique(axis=1)\n",
    "#take a look\n",
    "df.head()"
   ]
  },
  {
   "cell_type": "code",
   "execution_count": 76,
   "metadata": {},
   "outputs": [
    {
     "data": {
      "text/plain": [
       "0.41314"
      ]
     },
     "execution_count": 76,
     "metadata": {},
     "output_type": "execute_result"
    }
   ],
   "source": [
    "#average of where column of unique values is NOT equal to number of students\n",
    "(df.n_unique != n_people).mean()"
   ]
  },
  {
   "cell_type": "markdown",
   "metadata": {},
   "source": [
    "<b>40 students per class"
   ]
  },
  {
   "cell_type": "markdown",
   "metadata": {},
   "source": [
    "<b>Answer</b>: 89.28%"
   ]
  },
  {
   "cell_type": "code",
   "execution_count": 77,
   "metadata": {},
   "outputs": [],
   "source": [
    "n_simulations = 100_000\n",
    "n_people = 40\n",
    "\n",
    "#number of days in a year\n",
    "outcomes = range(0, 365) "
   ]
  },
  {
   "cell_type": "code",
   "execution_count": 78,
   "metadata": {},
   "outputs": [
    {
     "data": {
      "text/plain": [
       "array([[  8,  60,  65, ..., 143,  59, 248],\n",
       "       [280, 265, 300, ..., 232, 276, 136],\n",
       "       [144, 233, 224, ..., 245,  41,  68],\n",
       "       ...,\n",
       "       [208, 362, 141, ...,  60,  47,   9],\n",
       "       [ 48,  32, 307, ..., 357, 147,  16],\n",
       "       [  8, 272, 289, ...,  47, 297, 358]])"
      ]
     },
     "execution_count": 78,
     "metadata": {},
     "output_type": "execute_result"
    }
   ],
   "source": [
    "#produce some random birthdays\n",
    "birthdays = np.random.choice(outcomes, size=(n_simulations, n_people))\n",
    "birthdays"
   ]
  },
  {
   "cell_type": "code",
   "execution_count": 79,
   "metadata": {},
   "outputs": [
    {
     "data": {
      "text/html": [
       "<div>\n",
       "<style scoped>\n",
       "    .dataframe tbody tr th:only-of-type {\n",
       "        vertical-align: middle;\n",
       "    }\n",
       "\n",
       "    .dataframe tbody tr th {\n",
       "        vertical-align: top;\n",
       "    }\n",
       "\n",
       "    .dataframe thead th {\n",
       "        text-align: right;\n",
       "    }\n",
       "</style>\n",
       "<table border=\"1\" class=\"dataframe\">\n",
       "  <thead>\n",
       "    <tr style=\"text-align: right;\">\n",
       "      <th></th>\n",
       "      <th>0</th>\n",
       "      <th>1</th>\n",
       "      <th>2</th>\n",
       "      <th>3</th>\n",
       "      <th>4</th>\n",
       "      <th>5</th>\n",
       "      <th>6</th>\n",
       "      <th>7</th>\n",
       "      <th>8</th>\n",
       "      <th>9</th>\n",
       "      <th>...</th>\n",
       "      <th>30</th>\n",
       "      <th>31</th>\n",
       "      <th>32</th>\n",
       "      <th>33</th>\n",
       "      <th>34</th>\n",
       "      <th>35</th>\n",
       "      <th>36</th>\n",
       "      <th>37</th>\n",
       "      <th>38</th>\n",
       "      <th>39</th>\n",
       "    </tr>\n",
       "  </thead>\n",
       "  <tbody>\n",
       "    <tr>\n",
       "      <th>0</th>\n",
       "      <td>8</td>\n",
       "      <td>60</td>\n",
       "      <td>65</td>\n",
       "      <td>172</td>\n",
       "      <td>341</td>\n",
       "      <td>282</td>\n",
       "      <td>250</td>\n",
       "      <td>220</td>\n",
       "      <td>83</td>\n",
       "      <td>122</td>\n",
       "      <td>...</td>\n",
       "      <td>330</td>\n",
       "      <td>9</td>\n",
       "      <td>316</td>\n",
       "      <td>95</td>\n",
       "      <td>185</td>\n",
       "      <td>113</td>\n",
       "      <td>279</td>\n",
       "      <td>143</td>\n",
       "      <td>59</td>\n",
       "      <td>248</td>\n",
       "    </tr>\n",
       "    <tr>\n",
       "      <th>1</th>\n",
       "      <td>280</td>\n",
       "      <td>265</td>\n",
       "      <td>300</td>\n",
       "      <td>134</td>\n",
       "      <td>36</td>\n",
       "      <td>181</td>\n",
       "      <td>114</td>\n",
       "      <td>247</td>\n",
       "      <td>200</td>\n",
       "      <td>251</td>\n",
       "      <td>...</td>\n",
       "      <td>304</td>\n",
       "      <td>146</td>\n",
       "      <td>264</td>\n",
       "      <td>88</td>\n",
       "      <td>2</td>\n",
       "      <td>322</td>\n",
       "      <td>176</td>\n",
       "      <td>232</td>\n",
       "      <td>276</td>\n",
       "      <td>136</td>\n",
       "    </tr>\n",
       "    <tr>\n",
       "      <th>2</th>\n",
       "      <td>144</td>\n",
       "      <td>233</td>\n",
       "      <td>224</td>\n",
       "      <td>305</td>\n",
       "      <td>165</td>\n",
       "      <td>0</td>\n",
       "      <td>151</td>\n",
       "      <td>306</td>\n",
       "      <td>106</td>\n",
       "      <td>212</td>\n",
       "      <td>...</td>\n",
       "      <td>99</td>\n",
       "      <td>315</td>\n",
       "      <td>351</td>\n",
       "      <td>164</td>\n",
       "      <td>251</td>\n",
       "      <td>315</td>\n",
       "      <td>142</td>\n",
       "      <td>245</td>\n",
       "      <td>41</td>\n",
       "      <td>68</td>\n",
       "    </tr>\n",
       "    <tr>\n",
       "      <th>3</th>\n",
       "      <td>62</td>\n",
       "      <td>90</td>\n",
       "      <td>181</td>\n",
       "      <td>86</td>\n",
       "      <td>315</td>\n",
       "      <td>242</td>\n",
       "      <td>224</td>\n",
       "      <td>245</td>\n",
       "      <td>22</td>\n",
       "      <td>117</td>\n",
       "      <td>...</td>\n",
       "      <td>76</td>\n",
       "      <td>64</td>\n",
       "      <td>256</td>\n",
       "      <td>225</td>\n",
       "      <td>116</td>\n",
       "      <td>191</td>\n",
       "      <td>204</td>\n",
       "      <td>135</td>\n",
       "      <td>340</td>\n",
       "      <td>169</td>\n",
       "    </tr>\n",
       "    <tr>\n",
       "      <th>4</th>\n",
       "      <td>68</td>\n",
       "      <td>295</td>\n",
       "      <td>160</td>\n",
       "      <td>28</td>\n",
       "      <td>243</td>\n",
       "      <td>50</td>\n",
       "      <td>358</td>\n",
       "      <td>227</td>\n",
       "      <td>192</td>\n",
       "      <td>320</td>\n",
       "      <td>...</td>\n",
       "      <td>317</td>\n",
       "      <td>334</td>\n",
       "      <td>16</td>\n",
       "      <td>89</td>\n",
       "      <td>362</td>\n",
       "      <td>72</td>\n",
       "      <td>329</td>\n",
       "      <td>289</td>\n",
       "      <td>26</td>\n",
       "      <td>323</td>\n",
       "    </tr>\n",
       "  </tbody>\n",
       "</table>\n",
       "<p>5 rows × 40 columns</p>\n",
       "</div>"
      ],
      "text/plain": [
       "    0    1    2    3    4    5    6    7    8    9   ...   30   31   32   33  \\\n",
       "0    8   60   65  172  341  282  250  220   83  122  ...  330    9  316   95   \n",
       "1  280  265  300  134   36  181  114  247  200  251  ...  304  146  264   88   \n",
       "2  144  233  224  305  165    0  151  306  106  212  ...   99  315  351  164   \n",
       "3   62   90  181   86  315  242  224  245   22  117  ...   76   64  256  225   \n",
       "4   68  295  160   28  243   50  358  227  192  320  ...  317  334   16   89   \n",
       "\n",
       "    34   35   36   37   38   39  \n",
       "0  185  113  279  143   59  248  \n",
       "1    2  322  176  232  276  136  \n",
       "2  251  315  142  245   41   68  \n",
       "3  116  191  204  135  340  169  \n",
       "4  362   72  329  289   26  323  \n",
       "\n",
       "[5 rows x 40 columns]"
      ]
     },
     "execution_count": 79,
     "metadata": {},
     "output_type": "execute_result"
    }
   ],
   "source": [
    "#create the dataframe of birthdays\n",
    "df = pd.DataFrame(birthdays)\n",
    "df.head()"
   ]
  },
  {
   "cell_type": "code",
   "execution_count": 80,
   "metadata": {},
   "outputs": [
    {
     "data": {
      "text/html": [
       "<div>\n",
       "<style scoped>\n",
       "    .dataframe tbody tr th:only-of-type {\n",
       "        vertical-align: middle;\n",
       "    }\n",
       "\n",
       "    .dataframe tbody tr th {\n",
       "        vertical-align: top;\n",
       "    }\n",
       "\n",
       "    .dataframe thead th {\n",
       "        text-align: right;\n",
       "    }\n",
       "</style>\n",
       "<table border=\"1\" class=\"dataframe\">\n",
       "  <thead>\n",
       "    <tr style=\"text-align: right;\">\n",
       "      <th></th>\n",
       "      <th>0</th>\n",
       "      <th>1</th>\n",
       "      <th>2</th>\n",
       "      <th>3</th>\n",
       "      <th>4</th>\n",
       "      <th>5</th>\n",
       "      <th>6</th>\n",
       "      <th>7</th>\n",
       "      <th>8</th>\n",
       "      <th>9</th>\n",
       "      <th>...</th>\n",
       "      <th>31</th>\n",
       "      <th>32</th>\n",
       "      <th>33</th>\n",
       "      <th>34</th>\n",
       "      <th>35</th>\n",
       "      <th>36</th>\n",
       "      <th>37</th>\n",
       "      <th>38</th>\n",
       "      <th>39</th>\n",
       "      <th>n_unique</th>\n",
       "    </tr>\n",
       "  </thead>\n",
       "  <tbody>\n",
       "    <tr>\n",
       "      <th>0</th>\n",
       "      <td>8</td>\n",
       "      <td>60</td>\n",
       "      <td>65</td>\n",
       "      <td>172</td>\n",
       "      <td>341</td>\n",
       "      <td>282</td>\n",
       "      <td>250</td>\n",
       "      <td>220</td>\n",
       "      <td>83</td>\n",
       "      <td>122</td>\n",
       "      <td>...</td>\n",
       "      <td>9</td>\n",
       "      <td>316</td>\n",
       "      <td>95</td>\n",
       "      <td>185</td>\n",
       "      <td>113</td>\n",
       "      <td>279</td>\n",
       "      <td>143</td>\n",
       "      <td>59</td>\n",
       "      <td>248</td>\n",
       "      <td>36</td>\n",
       "    </tr>\n",
       "    <tr>\n",
       "      <th>1</th>\n",
       "      <td>280</td>\n",
       "      <td>265</td>\n",
       "      <td>300</td>\n",
       "      <td>134</td>\n",
       "      <td>36</td>\n",
       "      <td>181</td>\n",
       "      <td>114</td>\n",
       "      <td>247</td>\n",
       "      <td>200</td>\n",
       "      <td>251</td>\n",
       "      <td>...</td>\n",
       "      <td>146</td>\n",
       "      <td>264</td>\n",
       "      <td>88</td>\n",
       "      <td>2</td>\n",
       "      <td>322</td>\n",
       "      <td>176</td>\n",
       "      <td>232</td>\n",
       "      <td>276</td>\n",
       "      <td>136</td>\n",
       "      <td>39</td>\n",
       "    </tr>\n",
       "    <tr>\n",
       "      <th>2</th>\n",
       "      <td>144</td>\n",
       "      <td>233</td>\n",
       "      <td>224</td>\n",
       "      <td>305</td>\n",
       "      <td>165</td>\n",
       "      <td>0</td>\n",
       "      <td>151</td>\n",
       "      <td>306</td>\n",
       "      <td>106</td>\n",
       "      <td>212</td>\n",
       "      <td>...</td>\n",
       "      <td>315</td>\n",
       "      <td>351</td>\n",
       "      <td>164</td>\n",
       "      <td>251</td>\n",
       "      <td>315</td>\n",
       "      <td>142</td>\n",
       "      <td>245</td>\n",
       "      <td>41</td>\n",
       "      <td>68</td>\n",
       "      <td>37</td>\n",
       "    </tr>\n",
       "    <tr>\n",
       "      <th>3</th>\n",
       "      <td>62</td>\n",
       "      <td>90</td>\n",
       "      <td>181</td>\n",
       "      <td>86</td>\n",
       "      <td>315</td>\n",
       "      <td>242</td>\n",
       "      <td>224</td>\n",
       "      <td>245</td>\n",
       "      <td>22</td>\n",
       "      <td>117</td>\n",
       "      <td>...</td>\n",
       "      <td>64</td>\n",
       "      <td>256</td>\n",
       "      <td>225</td>\n",
       "      <td>116</td>\n",
       "      <td>191</td>\n",
       "      <td>204</td>\n",
       "      <td>135</td>\n",
       "      <td>340</td>\n",
       "      <td>169</td>\n",
       "      <td>40</td>\n",
       "    </tr>\n",
       "    <tr>\n",
       "      <th>4</th>\n",
       "      <td>68</td>\n",
       "      <td>295</td>\n",
       "      <td>160</td>\n",
       "      <td>28</td>\n",
       "      <td>243</td>\n",
       "      <td>50</td>\n",
       "      <td>358</td>\n",
       "      <td>227</td>\n",
       "      <td>192</td>\n",
       "      <td>320</td>\n",
       "      <td>...</td>\n",
       "      <td>334</td>\n",
       "      <td>16</td>\n",
       "      <td>89</td>\n",
       "      <td>362</td>\n",
       "      <td>72</td>\n",
       "      <td>329</td>\n",
       "      <td>289</td>\n",
       "      <td>26</td>\n",
       "      <td>323</td>\n",
       "      <td>39</td>\n",
       "    </tr>\n",
       "  </tbody>\n",
       "</table>\n",
       "<p>5 rows × 41 columns</p>\n",
       "</div>"
      ],
      "text/plain": [
       "     0    1    2    3    4    5    6    7    8    9  ...   31   32   33   34  \\\n",
       "0    8   60   65  172  341  282  250  220   83  122  ...    9  316   95  185   \n",
       "1  280  265  300  134   36  181  114  247  200  251  ...  146  264   88    2   \n",
       "2  144  233  224  305  165    0  151  306  106  212  ...  315  351  164  251   \n",
       "3   62   90  181   86  315  242  224  245   22  117  ...   64  256  225  116   \n",
       "4   68  295  160   28  243   50  358  227  192  320  ...  334   16   89  362   \n",
       "\n",
       "    35   36   37   38   39  n_unique  \n",
       "0  113  279  143   59  248        36  \n",
       "1  322  176  232  276  136        39  \n",
       "2  315  142  245   41   68        37  \n",
       "3  191  204  135  340  169        40  \n",
       "4   72  329  289   26  323        39  \n",
       "\n",
       "[5 rows x 41 columns]"
      ]
     },
     "execution_count": 80,
     "metadata": {},
     "output_type": "execute_result"
    }
   ],
   "source": [
    "#create columns\n",
    "df[\"n_unique\"] = df.nunique(axis=1)\n",
    "df.head()"
   ]
  },
  {
   "cell_type": "code",
   "execution_count": 81,
   "metadata": {},
   "outputs": [
    {
     "data": {
      "text/plain": [
       "0.89141"
      ]
     },
     "execution_count": 81,
     "metadata": {},
     "output_type": "execute_result"
    }
   ],
   "source": [
    "#average of where column of unique values is NOT equal to number of students\n",
    "(df.n_unique != n_people).mean()"
   ]
  }
 ],
 "metadata": {
  "kernelspec": {
   "display_name": "Python 3 (ipykernel)",
   "language": "python",
   "name": "python3"
  },
  "language_info": {
   "codemirror_mode": {
    "name": "ipython",
    "version": 3
   },
   "file_extension": ".py",
   "mimetype": "text/x-python",
   "name": "python",
   "nbconvert_exporter": "python",
   "pygments_lexer": "ipython3",
   "version": "3.9.13"
  }
 },
 "nbformat": 4,
 "nbformat_minor": 4
}
